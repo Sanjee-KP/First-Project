{
 "cells": [
  {
   "cell_type": "code",
   "execution_count": 1,
   "metadata": {
    "colab": {},
    "colab_type": "code",
    "id": "b4rj5fTISRJJ"
   },
   "outputs": [
    {
     "name": "stderr",
     "output_type": "stream",
     "text": [
      "/Users/user/anaconda3/lib/python3.7/site-packages/sklearn/ensemble/weight_boosting.py:29: DeprecationWarning: numpy.core.umath_tests is an internal NumPy module and should not be imported. It will be removed in a future NumPy release.\n",
      "  from numpy.core.umath_tests import inner1d\n"
     ]
    }
   ],
   "source": [
    "import pandas as pd\n",
    "import numpy as np\n",
    "import matplotlib.pyplot as plt\n",
    "\n",
    "%matplotlib inline\n",
    "\n",
    "from sklearn.svm import SVC\n",
    "from sklearn.preprocessing import StandardScaler\n",
    "from sklearn.model_selection import train_test_split\n",
    "from sklearn.linear_model import LogisticRegression\n",
    "from sklearn.ensemble import RandomForestClassifier\n",
    "from sklearn import metrics\n",
    "from sklearn.metrics import accuracy_score, confusion_matrix\n",
    "from sklearn.metrics import classification_report\n",
    "from sklearn import svm\n",
    "from sklearn.naive_bayes import GaussianNB\n",
    "from xgboost import XGBClassifier\n",
    "from sklearn.ensemble import AdaBoostClassifier\n",
    "from sklearn.metrics import roc_curve, auc\n",
    "from sklearn.model_selection import StratifiedShuffleSplit"
   ]
  },
  {
   "cell_type": "markdown",
   "metadata": {},
   "source": [
    "#### Read Data"
   ]
  },
  {
   "cell_type": "code",
   "execution_count": 3,
   "metadata": {
    "colab": {},
    "colab_type": "code",
    "id": "Je2QW1i28VcS"
   },
   "outputs": [
    {
     "data": {
      "text/plain": [
       "(595212, 59)"
      ]
     },
     "execution_count": 3,
     "metadata": {},
     "output_type": "execute_result"
    }
   ],
   "source": [
    "df = pd.read_csv('Claim_Prediction_Modelling.csv')\n",
    "df.shape"
   ]
  },
  {
   "cell_type": "code",
   "execution_count": 0,
   "metadata": {
    "colab": {
     "base_uri": "https://localhost:8080/",
     "height": 374
    },
    "colab_type": "code",
    "executionInfo": {
     "elapsed": 4190,
     "status": "ok",
     "timestamp": 1563701306962,
     "user": {
      "displayName": "Sanjee Than",
      "photoUrl": "https://lh6.googleusercontent.com/-ULNc2nuZVZI/AAAAAAAAAAI/AAAAAAAADZM/CunNSa9JHMU/s64/photo.jpg",
      "userId": "10057846091089378410"
     },
     "user_tz": -600
    },
    "id": "idF6YYivsVpn",
    "outputId": "15bbbeff-6b4b-4e8c-e9cf-81824d0bd955"
   },
   "outputs": [
    {
     "data": {
      "text/plain": [
       "target           1.000000\n",
       "ps_car_13        0.053286\n",
       "ps_car_12        0.037118\n",
       "ps_ind_17_bin    0.035395\n",
       "ps_reg_02        0.035061\n",
       "ps_reg_03        0.033177\n",
       "ps_ind_07_bin    0.032998\n",
       "ps_car_04_cat    0.031879\n",
       "ps_ind_05_cat    0.029722\n",
       "ps_car_03_cat    0.027955\n",
       "ps_car_15        0.026171\n",
       "ps_reg_01        0.022609\n",
       "ps_ind_01        0.020593\n",
       "ps_car_05_cat    0.019276\n",
       "ps_ind_08_bin    0.016403\n",
       "ps_car_01_cat    0.016085\n",
       "ps_ind_04_cat    0.012593\n",
       "ps_car_06_cat    0.010526\n",
       "ps_ind_03        0.009443\n",
       "ps_ind_12_bin    0.008413\n",
       "dtype: float64"
      ]
     },
     "execution_count": 38,
     "metadata": {
      "tags": []
     },
     "output_type": "execute_result"
    }
   ],
   "source": [
    "def get_top_feature(df, target_column, n):\n",
    "    return df.corr().unstack().sort_values(ascending=False)[target_column][0:n]\n",
    "get_top_feature(df, 'target', 20)"
   ]
  },
  {
   "cell_type": "markdown",
   "metadata": {},
   "source": [
    "#### Split Train and Test Data"
   ]
  },
  {
   "cell_type": "code",
   "execution_count": 0,
   "metadata": {
    "colab": {},
    "colab_type": "code",
    "id": "wMtqRugpSRJm"
   },
   "outputs": [],
   "source": [
    "target_col = 'target'\n",
    "feature_cols = [c for c in df.columns if c != target_col]\n",
    "#feature_cols = ['ps_car_13','ps_car_12','ps_ind_17_bin','ps_reg_02','ps_reg_03','ps_ind_07_bin','ps_car_04_cat','ps_ind_05_cat','ps_car_03_cat',\n",
    "#               'ps_car_15','ps_reg_01','ps_ind_01','ps_car_05_cat','ps_ind_08_bin','ps_car_01_cat','ps_ind_04_cat','ps_car_06_cat','ps_ind_03','ps_ind_12_bin']\n",
    "\n",
    "scaler = StandardScaler()\n",
    "\n",
    "df[feature_cols] = scaler.fit_transform(df[feature_cols])\n",
    "\n",
    "\n",
    "X =  df[feature_cols]\n",
    "y = df[target_col]\n",
    "\n",
    "# OverSample to negate Class Imbalance\n",
    "from imblearn.over_sampling import RandomOverSampler\n",
    "ros = RandomOverSampler(random_state=0)\n",
    "X_resampled, y_resampled = ros.fit_resample(X, y)\n",
    "\n",
    "X_train, X_test, y_train, y_test = train_test_split(X_resampled, y_resampled, random_state=1)"
   ]
  },
  {
   "cell_type": "markdown",
   "metadata": {},
   "source": [
    "#### Create a Model Pipeline"
   ]
  },
  {
   "cell_type": "code",
   "execution_count": 0,
   "metadata": {
    "colab": {},
    "colab_type": "code",
    "id": "gg05DmuQt5Rp"
   },
   "outputs": [],
   "source": [
    "def model_evaluation(model_type):\n",
    "    model = model_type\n",
    "    model.fit(X_train, y_train)\n",
    "    y_pred = model.predict(X_test)\n",
    "    y_pp = model.predict_proba(X_test)\n",
    "    print(confusion_matrix(y_test, y_pred))\n",
    "    print('Accuracy =',metrics.accuracy_score(y_test, y_pred))\n",
    "    print('Precision =',metrics.precision_score(y_test, y_pred))\n",
    "    print('Recall =',metrics.recall_score(y_test, y_pred))\n",
    "    print('F1 =',metrics.f1_score(y_test, y_pred))"
   ]
  },
  {
   "cell_type": "markdown",
   "metadata": {},
   "source": [
    "#### Logistic Regression"
   ]
  },
  {
   "cell_type": "code",
   "execution_count": 0,
   "metadata": {
    "colab": {
     "base_uri": "https://localhost:8080/",
     "height": 119
    },
    "colab_type": "code",
    "executionInfo": {
     "elapsed": 5411,
     "status": "ok",
     "timestamp": 1563702744117,
     "user": {
      "displayName": "Sanjee Than",
      "photoUrl": "https://lh6.googleusercontent.com/-ULNc2nuZVZI/AAAAAAAAAAI/AAAAAAAADZM/CunNSa9JHMU/s64/photo.jpg",
      "userId": "10057846091089378410"
     },
     "user_tz": -600
    },
    "id": "loMmLyl4sy9P",
    "outputId": "9e883ae9-f956-4e3c-8fbf-871912822266"
   },
   "outputs": [
    {
     "name": "stdout",
     "output_type": "stream",
     "text": [
      "[[38577 22387]\n",
      " [26937 33774]]\n",
      "Accuracy = 0.5946250256831724\n",
      "Precision = 0.6013781805879524\n",
      "Recall = 0.5563077531254632\n",
      "F1 = 0.5779656376206447\n"
     ]
    }
   ],
   "source": [
    "model_evaluation(model_type=LogisticRegression(solver='lbfgs', class_weight='auto', random_state=0))"
   ]
  },
  {
   "cell_type": "markdown",
   "metadata": {},
   "source": [
    "#### Random Forest"
   ]
  },
  {
   "cell_type": "code",
   "execution_count": 0,
   "metadata": {
    "colab": {
     "base_uri": "https://localhost:8080/",
     "height": 119
    },
    "colab_type": "code",
    "executionInfo": {
     "elapsed": 5941,
     "status": "ok",
     "timestamp": 1563702751998,
     "user": {
      "displayName": "Sanjee Than",
      "photoUrl": "https://lh6.googleusercontent.com/-ULNc2nuZVZI/AAAAAAAAAAI/AAAAAAAADZM/CunNSa9JHMU/s64/photo.jpg",
      "userId": "10057846091089378410"
     },
     "user_tz": -600
    },
    "id": "nzMka7D2uPKu",
    "outputId": "52d09910-6371-47f4-bd0a-8ae6b5c108bb"
   },
   "outputs": [
    {
     "name": "stdout",
     "output_type": "stream",
     "text": [
      "[[39401 21563]\n",
      " [29300 31411]]\n",
      "Accuracy = 0.5819765769467845\n",
      "Precision = 0.5929512591082418\n",
      "Recall = 0.5173856467526478\n",
      "F1 = 0.552597088446145\n"
     ]
    }
   ],
   "source": [
    "model_evaluation(model_type=RandomForestClassifier(n_estimators=10, max_depth=2, random_state=0))"
   ]
  },
  {
   "cell_type": "markdown",
   "metadata": {},
   "source": [
    "#### Naive Bayes"
   ]
  },
  {
   "cell_type": "code",
   "execution_count": 0,
   "metadata": {
    "colab": {
     "base_uri": "https://localhost:8080/",
     "height": 119
    },
    "colab_type": "code",
    "executionInfo": {
     "elapsed": 2580,
     "status": "ok",
     "timestamp": 1563702775057,
     "user": {
      "displayName": "Sanjee Than",
      "photoUrl": "https://lh6.googleusercontent.com/-ULNc2nuZVZI/AAAAAAAAAAI/AAAAAAAADZM/CunNSa9JHMU/s64/photo.jpg",
      "userId": "10057846091089378410"
     },
     "user_tz": -600
    },
    "id": "qidyreIMvkJZ",
    "outputId": "3e3cee6d-b30a-4a83-ba69-b72e2520278d"
   },
   "outputs": [
    {
     "name": "stdout",
     "output_type": "stream",
     "text": [
      "[[49016 11948]\n",
      " [39891 20820]]\n",
      "Accuracy = 0.5739552085473598\n",
      "Precision = 0.6353759765625\n",
      "Recall = 0.34293620595938135\n",
      "F1 = 0.44544764064656234\n"
     ]
    }
   ],
   "source": [
    "model_evaluation(model_type=GaussianNB())"
   ]
  },
  {
   "cell_type": "markdown",
   "metadata": {},
   "source": [
    "#### AdaBoost"
   ]
  },
  {
   "cell_type": "code",
   "execution_count": 0,
   "metadata": {
    "colab": {
     "base_uri": "https://localhost:8080/",
     "height": 119
    },
    "colab_type": "code",
    "executionInfo": {
     "elapsed": 23083,
     "status": "ok",
     "timestamp": 1563702800553,
     "user": {
      "displayName": "Sanjee Than",
      "photoUrl": "https://lh6.googleusercontent.com/-ULNc2nuZVZI/AAAAAAAAAAI/AAAAAAAADZM/CunNSa9JHMU/s64/photo.jpg",
      "userId": "10057846091089378410"
     },
     "user_tz": -600
    },
    "id": "ZcFrkmOPwXLt",
    "outputId": "2355406e-0c0b-46f3-eda7-a9a9a90cafef"
   },
   "outputs": [
    {
     "name": "stdout",
     "output_type": "stream",
     "text": [
      "[[36927 24037]\n",
      " [25871 34840]]\n",
      "Accuracy = 0.589825354427779\n",
      "Precision = 0.5917421064252595\n",
      "Recall = 0.5738663504142577\n",
      "F1 = 0.582667157239857\n"
     ]
    }
   ],
   "source": [
    "model_evaluation(AdaBoostClassifier(algorithm='SAMME.R', base_estimator=None,\n",
    "                                    learning_rate=1.0, n_estimators=10, random_state=0))"
   ]
  },
  {
   "cell_type": "markdown",
   "metadata": {},
   "source": [
    "#### XGBoost"
   ]
  },
  {
   "cell_type": "code",
   "execution_count": 70,
   "metadata": {
    "colab": {
     "base_uri": "https://localhost:8080/",
     "height": 119
    },
    "colab_type": "code",
    "executionInfo": {
     "elapsed": 39085,
     "status": "ok",
     "timestamp": 1563712663431,
     "user": {
      "displayName": "Sanjee Than",
      "photoUrl": "https://lh6.googleusercontent.com/-ULNc2nuZVZI/AAAAAAAAAAI/AAAAAAAADZM/CunNSa9JHMU/s64/photo.jpg",
      "userId": "10057846091089378410"
     },
     "user_tz": -600
    },
    "id": "F5R_A_zNwYIA",
    "outputId": "8516c612-cf7b-4d4c-da27-69f96cc2748c"
   },
   "outputs": [
    {
     "name": "stdout",
     "output_type": "stream",
     "text": [
      "[[47614 13350]\n",
      " [11924 48787]]\n",
      "Accuracy = 0.7922827203616191\n",
      "Precision = 0.7851521637671597\n",
      "Recall = 0.803594076855924\n",
      "F1 = 0.7942660849179474\n"
     ]
    }
   ],
   "source": [
    "model_evaluation(model_type=XGBClassifier(max_depth=10, learning_rate=0.25, n_estimators=10, random_state=0))"
   ]
  },
  {
   "cell_type": "code",
   "execution_count": 0,
   "metadata": {
    "colab": {},
    "colab_type": "code",
    "id": "WWxgHrgYyqis"
   },
   "outputs": [],
   "source": []
  }
 ],
 "metadata": {
  "colab": {
   "collapsed_sections": [],
   "name": "Claim Prediction Modelling.ipynb",
   "provenance": [],
   "version": "0.3.2"
  },
  "kernelspec": {
   "display_name": "Python 3",
   "language": "python",
   "name": "python3"
  },
  "language_info": {
   "codemirror_mode": {
    "name": "ipython",
    "version": 3
   },
   "file_extension": ".py",
   "mimetype": "text/x-python",
   "name": "python",
   "nbconvert_exporter": "python",
   "pygments_lexer": "ipython3",
   "version": "3.7.3"
  }
 },
 "nbformat": 4,
 "nbformat_minor": 1
}
